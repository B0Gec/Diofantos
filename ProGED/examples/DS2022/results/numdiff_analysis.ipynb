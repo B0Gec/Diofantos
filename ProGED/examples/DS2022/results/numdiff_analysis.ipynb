{
 "cells": [
  {
   "cell_type": "code",
   "execution_count": 1,
   "metadata": {},
   "outputs": [],
   "source": [
    "import numpy as np\n",
    "import ProGED as pg\n",
    "import matplotlib.pyplot as plt\n",
    "import os\n",
    "import sys\n",
    "from ProGED.examples.DS2022.generate_data_ODE_systems import generate_ODE_data, lorenz"
   ]
  },
  {
   "cell_type": "code",
   "execution_count": 2,
   "metadata": {},
   "outputs": [],
   "source": [
    "    np.random.seed(0)\n",
    "\n",
    "    inits = [1,1,1]\n",
    "    rho = 16\n",
    "    lor = lambda t, x: lorenz(t, x, rho=rho)\n",
    "    data = generate_ODE_data(lor, inits)\n",
    "    T = data[:,0]\n",
    "    deltaT = T[1]-T[0]\n",
    "    X = data[:, 1:]\n",
    "    dX = np.array([np.gradient(Xi, deltaT) for Xi in X.T])"
   ]
  },
  {
   "cell_type": "code",
   "execution_count": 3,
   "metadata": {},
   "outputs": [],
   "source": [
    "folder = \"E:/Dropbox/github/PCFGproject/ProGED/examples/DS2022/results/numdiff/\"\n",
    "file = \"numdiff_lorenz_custom\""
   ]
  },
  {
   "cell_type": "code",
   "execution_count": 4,
   "metadata": {},
   "outputs": [],
   "source": [
    "models = [pg.ModelBox() for i in range(3)]\n",
    "for i in range(3):\n",
    "    models[i].load(folder + file + \"_eq\" + str(i) + \"_models_fit.pg\")"
   ]
  },
  {
   "cell_type": "code",
   "execution_count": 5,
   "metadata": {},
   "outputs": [
    {
     "name": "stdout",
     "output_type": "stream",
     "text": [
      "---- 0 ----\n",
      "ModelBox: 5 models\n",
      "-> -9.98633805653992*x + 9.98632707691073*y - 0.000175691646940828, p = 2.719041454079999e-15, parse trees = 1, valid = True, error = 0.00019140908467392106, time = 18.646596908569336\n",
      "-> -9.98633985383915*x + 9.98632871007659*y - 0.000176525126530509, p = 2.564352e-07, parse trees = 2, valid = True, error = 0.00019140908597363478, time = 8.398370742797852\n",
      "-> -9.98633915787251*x + 9.98632667060028*y - 0.000185275975129266, p = 1.0838015999999997e-11, parse trees = 1, valid = True, error = 0.00019140909027406697, time = 15.809401035308838\n",
      "-> -9.98634324933474*x + 9.98632986198233*y - 0.000188509896068443, p = 2.7095039999999995e-08, parse trees = 1, valid = True, error = 0.0001914091075817723, time = 18.868375778198242\n",
      "-> -9.98632984010035*x + 9.98632984010035*y - 0.000110376994044259, p = 8.495062371532796e-16, parse trees = 1, valid = True, error = 0.00019140949002443858, time = 12.174851894378662\n",
      "---- 1 ----\n",
      "ModelBox: 5 models\n",
      "-> -0.99727904451327*x*z + 15.9426803762442*x - 0.983667808249783*y, p = 3.915419693875199e-22, parse trees = 1, valid = True, error = 0.0003848757762968396, time = 13.557492017745972\n",
      "-> x*(-0.00230619995438985*y - 0.943145296628864*z + 14.124990670661), p = 2.2658678783999994e-13, parse trees = 1, valid = True, error = 0.2103222244566598, time = 25.562865257263184\n",
      "-> x*(13.9803877368307 - 0.916359891169866*z) + z - 13.3550267699255, p = 5.419007999999998e-10, parse trees = 1, valid = True, error = 3.6735122102103546, time = 9.093019962310791\n",
      "-> -0.454642090458765*(x + y)*(0.00314351269567726*x*z + z - 14.622672151815), p = 4.5317357568e-16, parse trees = 1, valid = True, error = 3.817945447904429, time = 18.114720582962036\n",
      "-> -0.0288064744808331*x*z**2 + 6.54403622690478*x, p = 8.362666666666664e-10, parse trees = 1, valid = True, error = 4.958958395844402, time = 4.482748508453369\n",
      "---- 2 ----\n",
      "ModelBox: 5 models\n",
      "-> 0.998477300368064*x*y - 2.66259404527385*z, p = 2.8098559999999996e-09, parse trees = 1, valid = True, error = 0.00047867192726714947, time = 3.8233861923217773\n",
      "-> x*y + 0.000785906023073773*y - 2.66635032455898*z, p = 6.021119999999999e-13, parse trees = 1, valid = True, error = 0.0008418869056805514, time = 4.467756986618042\n",
      "-> x*y - 2.66671638416645*z + 0.000697789369263901, p = 3.0453264285695986e-16, parse trees = 1, valid = True, error = 0.0008440709628554449, time = 11.950424432754517\n",
      "-> x*y - 2.66671650739449*z + 0.000699568310458615, p = 1.3439999999999999e-07, parse trees = 1, valid = True, error = 0.0008440709630670512, time = 3.2569363117218018\n",
      "-> x*y - y - 2.9110570420643*z - 2.43862654318156, p = 2.6879999999999994e-09, parse trees = 1, valid = True, error = 3.454736744053451, time = 2.8814563751220703\n"
     ]
    }
   ],
   "source": [
    "for i in range(3):\n",
    "    print(\"----\", i, \"----\")\n",
    "    print(models[i].retrieve_best_models(5))"
   ]
  },
  {
   "cell_type": "code",
   "execution_count": 20,
   "metadata": {},
   "outputs": [],
   "source": [
    "succprob = []\n",
    "for i in range(3):\n",
    "    dat = np.hstack((dX[i].reshape((-1,1)), X))\n",
    "    SRi, curvesx = pg.postprocessing.resample_curve(models[i], dat, target_variable_index=0, success_threshold=1e-1, resampleN=1000)\n",
    "    succprob += [SRi/1000]\n"
   ]
  },
  {
   "cell_type": "code",
   "execution_count": 30,
   "metadata": {},
   "outputs": [
    {
     "data": {
      "image/png": "[encoded data removed]",
      "text/plain": [
       "<Figure size 432x288 with 1 Axes>"
      ]
     },
     "metadata": {
      "needs_background": "light"
     },
     "output_type": "display_data"
    }
   ],
   "source": [
    "for i in range(3):\n",
    "    plt.plot(succprob[i])"
   ]
  },
  {
   "cell_type": "code",
   "execution_count": null,
   "metadata": {},
   "outputs": [],
   "source": []
  },
  {
   "cell_type": "code",
   "execution_count": null,
   "metadata": {},
   "outputs": [],
   "source": []
  }
 ],
 "metadata": {
  "interpreter": {
   "hash": "63efe2ddc8cf119467956980be7d588a3b6a16ca703b063122c703b544e637f0"
  },
  "kernelspec": {
   "display_name": "Python 3.7.9 ('base')",
   "language": "python",
   "name": "python3"
  },
  "language_info": {
   "codemirror_mode": {
    "name": "ipython",
    "version": 3
   },
   "file_extension": ".py",
   "mimetype": "text/x-python",
   "name": "python",
   "nbconvert_exporter": "python",
   "pygments_lexer": "ipython3",
   "version": "3.7.9"
  },
  "orig_nbformat": 4
 },
 "nbformat": 4,
 "nbformat_minor": 2
}
