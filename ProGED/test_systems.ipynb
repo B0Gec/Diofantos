{
 "cells": [
  {
   "cell_type": "code",
   "execution_count": 1,
   "metadata": {},
   "outputs": [],
   "source": [
    "import numpy as np\n",
    "import sympy as sp\n",
    "\n",
    "import ProGED as pg"
   ]
  },
  {
   "cell_type": "code",
   "execution_count": 21,
   "metadata": {},
   "outputs": [],
   "source": [
    "ex1 = \"C*C*x - C**2*x*y\"\n",
    "ex2 = \"C*x*y - sin(C*y) + C + C*x/x\"\n",
    "symbols = {\"x\": [\"x\", \"y\"], \"const\": \"C\"}"
   ]
  },
  {
   "cell_type": "code",
   "execution_count": 22,
   "metadata": {},
   "outputs": [
    {
     "data": {
      "text/plain": [
       "ModelBox: 1 models\n",
       "-> [C0*x*y + C1*x, C2*x*y + C3 - sin(C4*y)], p = 1.0, parse trees = 1, valid = False"
      ]
     },
     "execution_count": 22,
     "metadata": {},
     "output_type": "execute_result"
    }
   ],
   "source": [
    "models = pg.ModelBox()\n",
    "models.add_system([ex1, ex2], symbols=symbols)\n",
    "models"
   ]
  },
  {
   "cell_type": "code",
   "execution_count": 23,
   "metadata": {},
   "outputs": [],
   "source": [
    "f = models[0].lambdify()"
   ]
  },
  {
   "cell_type": "code",
   "execution_count": 24,
   "metadata": {},
   "outputs": [],
   "source": [
    "X = np.random.random((10, 2))"
   ]
  },
  {
   "cell_type": "code",
   "execution_count": 25,
   "metadata": {},
   "outputs": [
    {
     "data": {
      "text/plain": [
       "array([-0.64150578,  1.54836582])"
      ]
     },
     "execution_count": 25,
     "metadata": {},
     "output_type": "execute_result"
    }
   ],
   "source": [
    "f(X[0])"
   ]
  },
  {
   "cell_type": "code",
   "execution_count": 2,
   "metadata": {},
   "outputs": [],
   "source": [
    "\n",
    "grammar = pg.grammar_from_template(\"polynomial\", \n",
    "    generator_settings = {\"variables\": [\"'x'\", \"'y'\", \"'z'\"], \"p_vars\": [1/3, 1/3, 1/3], \"functions\": [], \"p_F\": []})\n",
    "symbols = {\"x\": [\"x\", \"y\", \"z\"], \"const\": \"C\"}"
   ]
  },
  {
   "cell_type": "code",
   "execution_count": 3,
   "metadata": {},
   "outputs": [],
   "source": [
    "models = pg.generate.generate_models(grammar, symbols, dimension=3)"
   ]
  },
  {
   "cell_type": "code",
   "execution_count": 13,
   "metadata": {},
   "outputs": [],
   "source": [
    "X = np.random.random((4, 3))"
   ]
  },
  {
   "cell_type": "code",
   "execution_count": 19,
   "metadata": {},
   "outputs": [
    {
     "name": "stdout",
     "output_type": "stream",
     "text": [
      "[[ 1.22035004 -2.46075396 -0.83490272]\n",
      " [ 1.20497805 -2.42975739 -0.4326985 ]\n",
      " [ 1.33159333 -2.68506859 -0.41180011]\n",
      " [ 1.69581757 -3.41950233 -0.97326203]]\n",
      "[[-1.40435946 -1.97430848  0.15959577]\n",
      " [-1.38666963 -1.02320942  0.15758544]\n",
      " [-1.53237647 -0.97379064  0.17414402]\n",
      " [-1.95151995 -2.30148906  0.22177678]]\n",
      "[[-7.17634455 -0.43258778 -1.05466993]\n",
      " [-6.04628702 -0.22705394 -0.64252403]\n",
      " [-5.8730234  -0.19554091 -0.13669442]\n",
      " [-6.79312797 -0.36288869 -0.50676898]]\n",
      "[[-0.88945027  1.97768982  1.48493025]\n",
      " [-0.69251819  1.02496185  1.45315711]\n",
      " [-0.01825918  0.97545843  1.71486464]\n",
      " [-0.35009791  2.30543076  2.4676982 ]]\n",
      "[[-0.09155708  0.86937905 -0.39326157]\n",
      " [-0.04876953  1.30607815 -0.59080138]\n",
      " [ 0.11356512  0.03618413 -0.01636781]\n",
      " [ 0.0713601   0.2935507  -0.13278697]]\n"
     ]
    }
   ],
   "source": [
    "for m in models:\n",
    "    f = m.lambdify()\n",
    "    print(f(X))"
   ]
  },
  {
   "cell_type": "code",
   "execution_count": null,
   "metadata": {},
   "outputs": [],
   "source": []
  }
 ],
 "metadata": {
  "interpreter": {
   "hash": "76beed4d2605fe8bbf03fcd9f6aa6dd7c1b786fb4bb741595f0050e044859a7c"
  },
  "kernelspec": {
   "display_name": "Python 3.7.9 ('base')",
   "language": "python",
   "name": "python3"
  },
  "language_info": {
   "codemirror_mode": {
    "name": "ipython",
    "version": 3
   },
   "file_extension": ".py",
   "mimetype": "text/x-python",
   "name": "python",
   "nbconvert_exporter": "python",
   "pygments_lexer": "ipython3",
   "version": "3.7.9"
  },
  "orig_nbformat": 4
 },
 "nbformat": 4,
 "nbformat_minor": 2
}
