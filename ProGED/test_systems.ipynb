{
 "cells": [
  {
   "cell_type": "code",
   "execution_count": 1,
   "metadata": {},
   "outputs": [],
   "source": [
    "import numpy as np\n",
    "import sympy as sp\n",
    "\n",
    "import ProGED as pg"
   ]
  },
  {
   "cell_type": "code",
   "execution_count": 4,
   "metadata": {},
   "outputs": [],
   "source": [
    "ex1 = \"C*C*x - C**2*x*y\"\n",
    "ex2 = \"C*x*y - sin(C*y) + C + C*x/x\"\n",
    "symbols = {\"x\": [\"x\", \"y\"], \"const\": \"C\"}"
   ]
  },
  {
   "cell_type": "code",
   "execution_count": 5,
   "metadata": {},
   "outputs": [
    {
     "data": {
      "text/plain": [
       "ModelBox: 1 models\n",
       "-> [C0*x*y + C1*x, C2*x*y + C3 - sin(C4*y)], p = 1.0, parse trees = 1, valid = False"
      ]
     },
     "execution_count": 5,
     "metadata": {},
     "output_type": "execute_result"
    }
   ],
   "source": [
    "models = pg.ModelBox()#observed=[\"x\"])\n",
    "models.add_system([ex1, ex2], symbols=symbols)\n",
    "models"
   ]
  },
  {
   "cell_type": "code",
   "execution_count": 6,
   "metadata": {},
   "outputs": [
    {
     "name": "stdout",
     "output_type": "stream",
     "text": [
      "['x', 'y']\n",
      "[[-2.2827192110236294, -0.5220500192760291], [-2.486375032210999, 4.743761302187823, 3.652656957253874]]\n",
      "[]\n"
     ]
    }
   ],
   "source": [
    "print(models[0].observed)\n",
    "print(models[0].params)\n",
    "print(models[0].initials)"
   ]
  },
  {
   "cell_type": "code",
   "execution_count": 8,
   "metadata": {},
   "outputs": [
    {
     "name": "stdout",
     "output_type": "stream",
     "text": [
      "[array([1, 2]), array([3, 4, 5])]\n",
      "[]\n"
     ]
    }
   ],
   "source": [
    "models[0].set_params([1,2,3,4,5])\n",
    "print(models[0].params)\n",
    "print(models[0].initials)"
   ]
  },
  {
   "cell_type": "code",
   "execution_count": 10,
   "metadata": {},
   "outputs": [
    {
     "data": {
      "text/plain": [
       "[1, 2, 3, 4, 5]"
      ]
     },
     "execution_count": 10,
     "metadata": {},
     "output_type": "execute_result"
    }
   ],
   "source": [
    "models[0].get_all_params()"
   ]
  },
  {
   "cell_type": "code",
   "execution_count": 23,
   "metadata": {},
   "outputs": [],
   "source": [
    "f = models[0].lambdify()"
   ]
  },
  {
   "cell_type": "code",
   "execution_count": 24,
   "metadata": {},
   "outputs": [],
   "source": [
    "X = np.random.random((10, 2))"
   ]
  },
  {
   "cell_type": "code",
   "execution_count": null,
   "metadata": {},
   "outputs": [],
   "source": []
  },
  {
   "cell_type": "code",
   "execution_count": 25,
   "metadata": {},
   "outputs": [
    {
     "data": {
      "text/plain": [
       "array([-0.64150578,  1.54836582])"
      ]
     },
     "execution_count": 25,
     "metadata": {},
     "output_type": "execute_result"
    }
   ],
   "source": [
    "f(X[0])"
   ]
  },
  {
   "cell_type": "code",
   "execution_count": 3,
   "metadata": {},
   "outputs": [],
   "source": [
    "\n",
    "grammar = pg.grammar_from_template(\"polynomial\", \n",
    "    generator_settings = {\"variables\": [\"'x'\", \"'y'\", \"'z'\"], \"p_vars\": [1/3, 1/3, 1/3], \"functions\": [], \"p_F\": []})\n",
    "symbols = {\"x\": [\"x\", \"y\", \"z\"], \"const\": \"C\"}"
   ]
  },
  {
   "cell_type": "code",
   "execution_count": 4,
   "metadata": {},
   "outputs": [],
   "source": [
    "models = pg.generate.generate_models(grammar, symbols, dimension=3, observed = [\"y\"])"
   ]
  },
  {
   "cell_type": "code",
   "execution_count": 9,
   "metadata": {},
   "outputs": [],
   "source": [
    "models[1].set_params([1,2,3,4,5,6])"
   ]
  },
  {
   "cell_type": "code",
   "execution_count": 12,
   "metadata": {},
   "outputs": [
    {
     "data": {
      "text/plain": [
       "[array([1]), array([2]), array([3, 4])]"
      ]
     },
     "execution_count": 12,
     "metadata": {},
     "output_type": "execute_result"
    }
   ],
   "source": [
    "models[1].get_params()"
   ]
  },
  {
   "cell_type": "code",
   "execution_count": 19,
   "metadata": {},
   "outputs": [
    {
     "name": "stdout",
     "output_type": "stream",
     "text": [
      "[[ 1.22035004 -2.46075396 -0.83490272]\n",
      " [ 1.20497805 -2.42975739 -0.4326985 ]\n",
      " [ 1.33159333 -2.68506859 -0.41180011]\n",
      " [ 1.69581757 -3.41950233 -0.97326203]]\n",
      "[[-1.40435946 -1.97430848  0.15959577]\n",
      " [-1.38666963 -1.02320942  0.15758544]\n",
      " [-1.53237647 -0.97379064  0.17414402]\n",
      " [-1.95151995 -2.30148906  0.22177678]]\n",
      "[[-7.17634455 -0.43258778 -1.05466993]\n",
      " [-6.04628702 -0.22705394 -0.64252403]\n",
      " [-5.8730234  -0.19554091 -0.13669442]\n",
      " [-6.79312797 -0.36288869 -0.50676898]]\n",
      "[[-0.88945027  1.97768982  1.48493025]\n",
      " [-0.69251819  1.02496185  1.45315711]\n",
      " [-0.01825918  0.97545843  1.71486464]\n",
      " [-0.35009791  2.30543076  2.4676982 ]]\n",
      "[[-0.09155708  0.86937905 -0.39326157]\n",
      " [-0.04876953  1.30607815 -0.59080138]\n",
      " [ 0.11356512  0.03618413 -0.01636781]\n",
      " [ 0.0713601   0.2935507  -0.13278697]]\n"
     ]
    }
   ],
   "source": [
    "for m in models:\n",
    "    f = m.lambdify()\n",
    "    print(f(X))"
   ]
  },
  {
   "cell_type": "code",
   "execution_count": 6,
   "metadata": {},
   "outputs": [
    {
     "data": {
      "text/plain": [
       "(True, 'C0*y + x')"
      ]
     },
     "execution_count": 6,
     "metadata": {},
     "output_type": "execute_result"
    }
   ],
   "source": [
    "models = pg.ModelBox(observed=[\"y\"])\n",
    "models.add_model(\"x - C*y\", {\"x\":[\"x\", \"y\"], \"const\":\"C\"})"
   ]
  },
  {
   "cell_type": "code",
   "execution_count": 7,
   "metadata": {},
   "outputs": [
    {
     "ename": "TypeError",
     "evalue": "'int' object is not iterable",
     "output_type": "error",
     "traceback": [
      "\u001b[1;31m---------------------------------------------------------------------------\u001b[0m",
      "\u001b[1;31mTypeError\u001b[0m                                 Traceback (most recent call last)",
      "\u001b[1;32m<ipython-input-7-24830146313f>\u001b[0m in \u001b[0;36m<module>\u001b[1;34m\u001b[0m\n\u001b[0;32m      1\u001b[0m \u001b[0ma\u001b[0m \u001b[1;33m=\u001b[0m \u001b[1;33m[\u001b[0m\u001b[1;36m1\u001b[0m\u001b[1;33m,\u001b[0m\u001b[1;36m2\u001b[0m\u001b[1;33m,\u001b[0m\u001b[1;36m3\u001b[0m\u001b[1;33m]\u001b[0m\u001b[1;33m\u001b[0m\u001b[1;33m\u001b[0m\u001b[0m\n\u001b[1;32m----> 2\u001b[1;33m \u001b[1;33m[\u001b[0m\u001b[0mpar\u001b[0m \u001b[1;32mfor\u001b[0m \u001b[0meq_params\u001b[0m \u001b[1;32min\u001b[0m \u001b[0ma\u001b[0m \u001b[1;32mfor\u001b[0m \u001b[0mpar\u001b[0m \u001b[1;32min\u001b[0m \u001b[0meq_params\u001b[0m\u001b[1;33m]\u001b[0m\u001b[1;33m\u001b[0m\u001b[1;33m\u001b[0m\u001b[0m\n\u001b[0m",
      "\u001b[1;32m<ipython-input-7-24830146313f>\u001b[0m in \u001b[0;36m<listcomp>\u001b[1;34m(.0)\u001b[0m\n\u001b[0;32m      1\u001b[0m \u001b[0ma\u001b[0m \u001b[1;33m=\u001b[0m \u001b[1;33m[\u001b[0m\u001b[1;36m1\u001b[0m\u001b[1;33m,\u001b[0m\u001b[1;36m2\u001b[0m\u001b[1;33m,\u001b[0m\u001b[1;36m3\u001b[0m\u001b[1;33m]\u001b[0m\u001b[1;33m\u001b[0m\u001b[1;33m\u001b[0m\u001b[0m\n\u001b[1;32m----> 2\u001b[1;33m \u001b[1;33m[\u001b[0m\u001b[0mpar\u001b[0m \u001b[1;32mfor\u001b[0m \u001b[0meq_params\u001b[0m \u001b[1;32min\u001b[0m \u001b[0ma\u001b[0m \u001b[1;32mfor\u001b[0m \u001b[0mpar\u001b[0m \u001b[1;32min\u001b[0m \u001b[0meq_params\u001b[0m\u001b[1;33m]\u001b[0m\u001b[1;33m\u001b[0m\u001b[1;33m\u001b[0m\u001b[0m\n\u001b[0m",
      "\u001b[1;31mTypeError\u001b[0m: 'int' object is not iterable"
     ]
    }
   ],
   "source": [
    "a = [1,2,3]\n",
    "[par for eq_params in a for par in eq_params]"
   ]
  },
  {
   "cell_type": "code",
   "execution_count": null,
   "metadata": {},
   "outputs": [],
   "source": []
  }
 ],
 "metadata": {
  "interpreter": {
   "hash": "76beed4d2605fe8bbf03fcd9f6aa6dd7c1b786fb4bb741595f0050e044859a7c"
  },
  "kernelspec": {
   "display_name": "Python 3.7.9 ('base')",
   "language": "python",
   "name": "python3"
  },
  "language_info": {
   "codemirror_mode": {
    "name": "ipython",
    "version": 3
   },
   "file_extension": ".py",
   "mimetype": "text/x-python",
   "name": "python",
   "nbconvert_exporter": "python",
   "pygments_lexer": "ipython3",
   "version": "3.7.9"
  },
  "orig_nbformat": 4
 },
 "nbformat": 4,
 "nbformat_minor": 2
}
